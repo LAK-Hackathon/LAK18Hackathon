{
 "cells": [
  {
   "cell_type": "code",
   "execution_count": null,
   "metadata": {
    "collapsed": true
   },
   "outputs": [],
   "source": [
    "class_col = 'CLS_Grade_GE10'\n",
    "run_params = {\"max_depth\":5, 'min_samples_leaf':20, 'class_weight': 'balanced'}\n",
    "cat_cols = ['Subject', 'school', 'sex', 'address', 'famsize', 'Pstatus','Medu', 'Fedu', 'Mjob', 'Fjob', 'reason', 'guardian', 'traveltime', 'studytime', 'schoolsup', 'famsup', 'paid', 'activities', 'nursery', 'higher', 'internet', 'romantic']"
   ]
  },
  {
   "cell_type": "raw",
   "metadata": {},
   "source": [
    "cwd_luigi = False # and this causes change of working dir so luigi config is found\n",
    "%run '../../Paths.ipynb'"
   ]
  },
  {
   "cell_type": "code",
   "execution_count": null,
   "metadata": {
    "collapsed": true
   },
   "outputs": [],
   "source": [
    "import pandas as pd\n",
    "from sklearn import tree"
   ]
  },
  {
   "cell_type": "code",
   "execution_count": null,
   "metadata": {
    "collapsed": true
   },
   "outputs": [],
   "source": [
    "# used by this notebook (Derivative of data pipeline code)\n",
    "# code to support processsing of dummy variables in notebooks\n",
    "class dummy_builder:\n",
    "    def __init__(self, prefixes):\n",
    "        self.prefixes = prefixes\n",
    "               \n",
    "    def make_dummies(self, df, dummy_cols):\n",
    "        \"\"\"Alteration of specified columns in a dataframe, with optional (non-default) removal of the dummy which is the majority category and (default) removal of the pre-dummied originals\"\"\"\n",
    "            \n",
    "        for c in dummy_cols:\n",
    "            # there might be some dropped columns\n",
    "            if c not in df.columns.values:\n",
    "                continue\n",
    "\n",
    "            if not self.prefixes.has_key(c):\n",
    "                raise Exception(\"prefixes defined in dummies.py do not contain the key:\", c)\n",
    "            \n",
    "            if len(df[c].unique()) > 1:\n",
    "                dummies = pd.get_dummies(df[c], prefix=self.prefixes[c])\n",
    "            else:\n",
    "                dummies = None\n",
    "                self.g_print(c + \" had only one value; not creating dummies\")\n",
    "            # append dummies and drop the categorical\n",
    "            if dummies is not None:\n",
    "                df = pd.concat([df, dummies], axis=1, copy=False)\n",
    "                df.drop(c, axis=1, inplace=True)\n",
    "        return df"
   ]
  },
  {
   "cell_type": "code",
   "execution_count": null,
   "metadata": {
    "collapsed": true
   },
   "outputs": [],
   "source": [
    "# these are used by other notebooks\n",
    "def prep_vector_for_classifier(row):\n",
    "        # turn the row into the form to match the data fed to the classifier (i.e dummified)\n",
    "    # a bit awkward as we have to resort to the original to know what the 0 dummy entries are\n",
    "    new_values = []\n",
    "    new_index = []\n",
    "    for i, v in row.iteritems():\n",
    "        if i in cat_cols:\n",
    "            new_values.append(1)\n",
    "            new_index.append('{}_{}'.format(i, v))\n",
    "        else:\n",
    "            new_values.append(v)\n",
    "            new_index.append(i)\n",
    "    s = pd.Series(data=new_values, index=new_index).reindex(dummied_data_cols).fillna(0)\n",
    "\n",
    "    XX = s.values.reshape(1, -1)\n",
    "\n",
    "    return XX\n",
    "\n",
    "def predict_1(row):    \n",
    "    return clf.predict_proba(prep_vector_for_classifier(row))[0][1]"
   ]
  },
  {
   "cell_type": "code",
   "execution_count": null,
   "metadata": {},
   "outputs": [],
   "source": [
    "fs = pd.read_csv(data_file)\n",
    "fs_data = fs.drop(class_col, axis=1)\n",
    "cls = fs[class_col]\n",
    "del fs"
   ]
  },
  {
   "cell_type": "code",
   "execution_count": null,
   "metadata": {
    "collapsed": true
   },
   "outputs": [],
   "source": [
    "db = dummy_builder(prefixes = {k:k for k in cat_cols})\n",
    "data = db.make_dummies(fs_data, cat_cols)\n",
    "dummied_data_cols = data.columns\n",
    "clf = tree.DecisionTreeClassifier()\n",
    "clf.set_params(**run_params)\n",
    "clf.fit(data, cls)"
   ]
  },
  {
   "cell_type": "code",
   "execution_count": null,
   "metadata": {
    "collapsed": true
   },
   "outputs": [],
   "source": [
    "importances = pd.DataFrame({\"dummied\": data.columns.values,\n",
    "                            \"undummied\": [f.split('_')[0] for f in data.columns.values],\n",
    "                            \"importance\": clf.feature_importances_}).sort_values('importance', ascending=False)\n",
    "\n",
    "undummied_nz_importances = importances[importances.importance > 0][['undummied', 'importance']].groupby('undummied').sum().sort_values('importance', ascending=False)"
   ]
  },
  {
   "cell_type": "code",
   "execution_count": null,
   "metadata": {
    "collapsed": true
   },
   "outputs": [],
   "source": [
    "# prepare some personas\n",
    "\n",
    "#get an arbitrary row to be \"me\"\n",
    "sample_no = 11\n",
    "row = fs_data.iloc[sample_no]\n",
    "\n",
    "personas = {\"me\": dict(row),\n",
    "            \"wild-child\": {'Dalc': 5,\n",
    "                         'Fedu': 1,\n",
    "                         'Fjob': 'other',\n",
    "                         'Grade1': 9,\n",
    "                         'Medu': 2,\n",
    "                         'Mjob': 'services',\n",
    "                         'Pstatus': 'A',\n",
    "                         'Subject': 'Maths',\n",
    "                         'Walc': 5,\n",
    "                         'absences': 20,\n",
    "                         'activities': 'no',\n",
    "                         'address': 'U',\n",
    "                         'age': 17,\n",
    "                         'failures': 2,\n",
    "                         'famrel': 1,\n",
    "                         'famsize': 'GT3',\n",
    "                         'famsup': 'yes',\n",
    "                         'freetime': 2,\n",
    "                         'goout': 5,\n",
    "                         'guardian': 'father',\n",
    "                         'health': 3,\n",
    "                         'higher': 'no',\n",
    "                         'internet': 'yes',\n",
    "                         'nursery': 'yes',\n",
    "                         'paid': 'no',\n",
    "                         'reason': 'home',\n",
    "                         'romantic': 'yes',\n",
    "                         'school': 'GP',\n",
    "                         'schoolsup': 'no',\n",
    "                         'sex': 'F',\n",
    "                         'studytime': 1,\n",
    "                         'traveltime': 1\n",
    "                          },\n",
    "            \"middle-class\": {'Dalc': 1,\n",
    "                         'Fedu': 1,\n",
    "                         'Fjob': 'teacher',\n",
    "                         'Grade1': 15,\n",
    "                         'Medu': 4,\n",
    "                         'Mjob': 'services',\n",
    "                         'Pstatus': 'T',\n",
    "                         'Subject': 'Maths',\n",
    "                         'Walc': 1,\n",
    "                         'absences': 0,\n",
    "                         'activities': 'yes',\n",
    "                         'address': 'U',\n",
    "                         'age': 17,\n",
    "                         'failures': 0,\n",
    "                         'famrel': 5,\n",
    "                         'famsize': 'LE3',\n",
    "                         'famsup': 'yes',\n",
    "                         'freetime': 2,\n",
    "                         'goout': 1,\n",
    "                         'guardian': 'mother',\n",
    "                         'health': 4,\n",
    "                         'higher': 'yes',\n",
    "                         'internet': 'yes',\n",
    "                         'nursery': 'yes',\n",
    "                         'paid': 'yes',\n",
    "                         'reason': 'reputation',\n",
    "                         'romantic': 'no',\n",
    "                         'school': 'GP',\n",
    "                         'schoolsup': 'no',\n",
    "                         'sex': 'F',\n",
    "                         'studytime': 4,\n",
    "                         'traveltime': 3\n",
    "                          }\n",
    "           }"
   ]
  },
  {
   "cell_type": "code",
   "execution_count": null,
   "metadata": {
    "collapsed": true
   },
   "outputs": [],
   "source": []
  }
 ],
 "metadata": {
  "hide_input": false,
  "kernelspec": {
   "display_name": "Python 2",
   "language": "python",
   "name": "python2"
  },
  "language_info": {
   "codemirror_mode": {
    "name": "ipython",
    "version": 2
   },
   "file_extension": ".py",
   "mimetype": "text/x-python",
   "name": "python",
   "nbconvert_exporter": "python",
   "pygments_lexer": "ipython2",
   "version": "2.7.13"
  }
 },
 "nbformat": 4,
 "nbformat_minor": 2
}
