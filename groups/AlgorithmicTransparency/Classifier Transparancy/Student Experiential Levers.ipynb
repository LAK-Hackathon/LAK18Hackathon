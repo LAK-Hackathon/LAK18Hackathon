{
 "cells": [
  {
   "cell_type": "markdown",
   "metadata": {},
   "source": [
    "Experiment to see how varying the values of attributes can influence the classifier score (a value of 0.5 or more means that the decision tree predictive model expects the student to get a mark of 10 or more)."
   ]
  },
  {
   "cell_type": "code",
   "execution_count": 1,
   "metadata": {
    "collapsed": true
   },
   "outputs": [],
   "source": [
    "data_file = r'Student_Prepared_FirstTerm.csv'  # Student_Prepared_FirstTerm.csv or Student_Prepared_FinalTerm.csv\n",
    "# CHOOSE A PERSONA: \"me\", \"wild-child\", \"middle-class\"\n",
    "persona = \"wild-child\"  # \"me\", \"middle-class\""
   ]
  },
  {
   "cell_type": "code",
   "execution_count": 2,
   "metadata": {},
   "outputs": [],
   "source": [
    "%run \"Prep Student Classifier.ipynb\""
   ]
  },
  {
   "cell_type": "code",
   "execution_count": 3,
   "metadata": {
    "collapsed": true
   },
   "outputs": [],
   "source": [
    "from ipywidgets import interact, interact_manual\n",
    "import ipywidgets as widgets"
   ]
  },
  {
   "cell_type": "code",
   "execution_count": 4,
   "metadata": {
    "collapsed": true
   },
   "outputs": [],
   "source": [
    "# function to return a dict of widgets that may be passed to interact() using the **kwargs method\n",
    "def make_widgets(d, cat_cols, init_vals):  # d will be fs_data\n",
    "    w_dict = dict()\n",
    "    for c in d.columns:\n",
    "        if c in cat_cols:\n",
    "            w_dict[c] = widgets.Dropdown(options=list(d[c].unique()), value=init_vals[c])\n",
    "        else:\n",
    "            w_dict[c] = widgets.IntSlider(min=min(d[c]), max=max(d[c]), value=init_vals[c])\n",
    "    return w_dict                   "
   ]
  },
  {
   "cell_type": "code",
   "execution_count": 5,
   "metadata": {
    "collapsed": true
   },
   "outputs": [],
   "source": [
    "def f(**kwargs):\n",
    "    print \"Classifier score:\", predict_1(kwargs)"
   ]
  },
  {
   "cell_type": "markdown",
   "metadata": {},
   "source": [
    "These are for only those features with non-zero importance according to the trained classifier. Not in order (because make_widgets returns a dict)."
   ]
  },
  {
   "cell_type": "code",
   "execution_count": 6,
   "metadata": {},
   "outputs": [
    {
     "data": {
      "application/vnd.jupyter.widget-view+json": {
       "model_id": "df265ca462724f51bef5208950733c2f",
       "version_major": 2,
       "version_minor": 0
      },
      "text/html": [
       "<p>Failed to display Jupyter Widget of type <code>interactive</code>.</p>\n",
       "<p>\n",
       "  If you're reading this message in the Jupyter Notebook or JupyterLab Notebook, it may mean\n",
       "  that the widgets JavaScript is still loading. If this message persists, it\n",
       "  likely means that the widgets JavaScript library is either not installed or\n",
       "  not enabled. See the <a href=\"https://ipywidgets.readthedocs.io/en/stable/user_install.html\">Jupyter\n",
       "  Widgets Documentation</a> for setup instructions.\n",
       "</p>\n",
       "<p>\n",
       "  If you're reading this message in another frontend (for example, a static\n",
       "  rendering on GitHub or <a href=\"https://nbviewer.jupyter.org/\">NBViewer</a>),\n",
       "  it may mean that your frontend doesn't currently support widgets.\n",
       "</p>\n"
      ],
      "text/plain": [
       "interactive(children=(Dropdown(description=u'schoolsup', index=1, options=('yes', 'no'), value='no'), Dropdown(description=u'school', options=('GP', 'MS'), value='GP'), IntSlider(value=20, description=u'absences', max=75), Dropdown(description=u'guardian', index=1, options=('mother', 'father', 'other'), value='father'), IntSlider(value=17, description=u'age', max=22, min=15), Dropdown(description=u'studytime', index=2, options=(2, 3, 1, 4), value=1), Dropdown(description=u'sex', options=('F', 'M'), value='F'), Dropdown(description=u'Fedu', index=1, options=(4, 1, 2, 3, 0), value=1), Dropdown(description=u'Medu', index=3, options=(4, 1, 3, 2, 0), value=2), IntSlider(value=2, description=u'failures', max=3), Dropdown(description=u'Subject', index=1, options=('Portuguese', 'Maths'), value='Maths'), Dropdown(description=u'higher', index=1, options=('yes', 'no'), value='no'), Output()), _dom_classes=('widget-interact',))"
      ]
     },
     "metadata": {},
     "output_type": "display_data"
    }
   ],
   "source": [
    "interact(f, **make_widgets(fs_data[undummied_nz_importances.index], cat_cols, init_vals=personas[persona]));"
   ]
  },
  {
   "cell_type": "code",
   "execution_count": null,
   "metadata": {
    "collapsed": true
   },
   "outputs": [],
   "source": []
  }
 ],
 "metadata": {
  "hide_input": false,
  "kernelspec": {
   "display_name": "Python 2",
   "language": "python",
   "name": "python2"
  },
  "language_info": {
   "codemirror_mode": {
    "name": "ipython",
    "version": 2
   },
   "file_extension": ".py",
   "mimetype": "text/x-python",
   "name": "python",
   "nbconvert_exporter": "python",
   "pygments_lexer": "ipython2",
   "version": "2.7.13"
  }
 },
 "nbformat": 4,
 "nbformat_minor": 2
}
